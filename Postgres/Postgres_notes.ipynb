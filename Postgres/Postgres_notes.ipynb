{
    "metadata": {
        "kernelspec": {
            "name": "SQL",
            "display_name": "SQL",
            "language": "sql"
        },
        "language_info": {
            "name": "sql",
            "version": ""
        }
    },
    "nbformat_minor": 2,
    "nbformat": 4,
    "cells": [
        {
            "cell_type": "markdown",
            "source": [
                "# Postgres notes"
            ],
            "metadata": {
                "azdata_cell_guid": "a234718d-6e2b-41fc-a97e-9c78d826843b"
            },
            "attachments": {}
        }
    ]
}